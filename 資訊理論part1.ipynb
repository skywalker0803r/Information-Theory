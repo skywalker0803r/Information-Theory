{
  "nbformat": 4,
  "nbformat_minor": 0,
  "metadata": {
    "colab": {
      "name": "資訊理論part1.ipynb",
      "provenance": [],
      "authorship_tag": "ABX9TyNeEhzgvUBUADuAh9w41IsT",
      "include_colab_link": true
    },
    "kernelspec": {
      "name": "python3",
      "display_name": "Python 3"
    },
    "language_info": {
      "name": "python"
    }
  },
  "cells": [
    {
      "cell_type": "markdown",
      "metadata": {
        "id": "view-in-github",
        "colab_type": "text"
      },
      "source": [
        "<a href=\"https://colab.research.google.com/github/skywalker0803r/Information-Theory/blob/main/%E8%B3%87%E8%A8%8A%E7%90%86%E8%AB%96part1.ipynb\" target=\"_parent\"><img src=\"https://colab.research.google.com/assets/colab-badge.svg\" alt=\"Open In Colab\"/></a>"
      ]
    },
    {
      "cell_type": "code",
      "metadata": {
        "id": "3H1YaLCdzIb1"
      },
      "source": [
        "import numpy as np"
      ],
      "execution_count": 14,
      "outputs": []
    },
    {
      "cell_type": "markdown",
      "metadata": {
        "id": "JOwysrX6Gi8O"
      },
      "source": [
        "[資訊理論入門](https://iter01.com/435346.html?fbclid=IwAR0skxHmAJ9LhuKbe9L76ng3CbMnKZKFB8mBwwwI22V0ZXoiN30pYmahNho)"
      ]
    },
    {
      "cell_type": "code",
      "metadata": {
        "id": "EInUF8ymzKFS"
      },
      "source": [
        "# 編碼長度\n",
        "def L(p):\n",
        "  return p*np.log2(1/p)\n",
        "\n",
        "# 平均編碼長度\n",
        "def H(P):\n",
        "  sum = 0\n",
        "  for p in P:\n",
        "    sum += L(p)\n",
        "  return sum"
      ],
      "execution_count": 15,
      "outputs": []
    },
    {
      "cell_type": "code",
      "metadata": {
        "colab": {
          "base_uri": "https://localhost:8080/"
        },
        "id": "eB0WRVYpF8PT",
        "outputId": "018c4ab1-8981-46d5-f4c5-5124561647b0"
      },
      "source": [
        "L(0.25)"
      ],
      "execution_count": 19,
      "outputs": [
        {
          "output_type": "execute_result",
          "data": {
            "text/plain": [
              "0.5"
            ]
          },
          "metadata": {
            "tags": []
          },
          "execution_count": 19
        }
      ]
    },
    {
      "cell_type": "code",
      "metadata": {
        "colab": {
          "base_uri": "https://localhost:8080/"
        },
        "id": "3NoWGhFLzP7p",
        "outputId": "ca2a82a5-5cd8-4a95-a658-0f811c7e84e7"
      },
      "source": [
        "H([0.25,0.25,0.25,0.25])"
      ],
      "execution_count": 20,
      "outputs": [
        {
          "output_type": "execute_result",
          "data": {
            "text/plain": [
              "2.0"
            ]
          },
          "metadata": {
            "tags": []
          },
          "execution_count": 20
        }
      ]
    },
    {
      "cell_type": "code",
      "metadata": {
        "id": "F38zs5XLzREp"
      },
      "source": [
        ""
      ],
      "execution_count": null,
      "outputs": []
    }
  ]
}